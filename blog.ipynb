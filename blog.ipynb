{
 "cells": [
  {
   "cell_type": "markdown",
   "metadata": {},
   "source": [
    "# Introduction\n",
    "Analyst positions have become increasingly valuable in today's data-driven job market, with demand growing across various sectors. Roles such as data analyst, finance analyst, and credit risk analyst may vary across industries but often share common technical skills required by employers. For job seekers, understanding what employers actually want and what they offer can be challenging. This blog uses real job listings from [Reed.co.uk](https://www.reed.co.uk/jobs/data-analyst-jobs-in-united-kingdom), one of the leading job sites in the United Kingdom (UK), to provide a more complete view of analyst jobs, focusing on the most in-demand skills, salary expectations, locations, and employment types. The findings will help both job seekers and employers understand the current market trends."
   ]
  },
  {
   "cell_type": "markdown",
   "metadata": {},
   "source": [
    "# Dataset collection\n",
    "Using Python's web scraping tools such as BeautifulSoup, over 1500 job listings have been collected from various analyst jobs in the UK. For each job listing, information such as the job title, salary, location, and job type (permanent or contract and full-time or part-time) have been collected. Furthermore, the skills required by each job, such as programming languages and tools, have been collected. Only skills that match the predefined list (created from references in README.md) were collected. This was done to provide understanding into what the current skills from the list are most in-demand, specifically for UK jobs. All data was collected in April 2025."
   ]
  },
  {
   "cell_type": "markdown",
   "metadata": {},
   "source": [
    "# The most needed skills\n",
    "The most important question probably asked by job seekers for analyst positions is \"which skills to focus on?\". Figure 1 shows that Python is the most in-demand skill, appearing in 53.5% of all job listings. The close second and third positions are SQL and Excel with 50.8% and 44.7% respectively. These three skills form the foundation required by employers, which makes sense for analyst roles where the main workload involves data processing, visualisations, and database manipulation. Additionally, business intelligence (BI) tools such as Power BI (28.8%) and Tableau (27.3%) are frequently used, probably for their ability to create data visualisations and dashboards.\n",
    "\n",
    "![Top skills](./results/top_skills.png)  \n",
    "*Figure 1: Top skills for UK analyst jobs*"
   ]
  },
  {
   "cell_type": "markdown",
   "metadata": {},
   "source": [
    "## Skill power pairs\n",
    "As shown in figure 2, Python and SQL are by far the most frequent pairing, along with various pairings with Excel, Tableau, and Power BI. This further confirms the importance of these skills and that employers value analysts who can manage a complete workflow. Together, focusing on Python, SQL, Excel, and at least one BI tool is essential and seems sufficient for most analyst roles.\n",
    "\n",
    "![Top skills combinations](./results/skills_combinations.png)  \n",
    "*Figure 2: Top 10 most frequent skill pairings*"
   ]
  },
  {
   "cell_type": "markdown",
   "metadata": {},
   "source": [
    "# Location distribution\n",
    "Figure 3 revealed that London is the location with the most analyst jobs in the UK, accounting for nearly a third of all listings. This means that job seekers need to be willing to relocate to London in order to have access to more opportunities, but likely face more competition and higher living costs. However, secondary cities such as Manchester, Leeds, and Birmingham offer a large number of positions, providing alternatives. It is worth noting that the majority of positions are located in urban centres, which makes sense for major businesses, where most demand analysts.\n",
    "\n",
    "![Top locations](./results/top_locations.png)  \n",
    "*Figure 3: Top 15 locations for UK analyst jobs*"
   ]
  },
  {
   "cell_type": "markdown",
   "metadata": {},
   "source": [
    "## Regional variations in skill demand\n",
    "Figure 4 shows the prevalence (in percentage) of skills by location and gives an understanding into the demand for specific skills, depending on the location. No surprise that London offers the most diverse skill requirements, with specialised skills such as Spark and Scala appearing almost exclusively, while other cities focus on the core skillset. This suggests that job seekers should focus their search on specific locations based on their skill specialisations or interests. Those with more specialised skills will find more opportunities in London, while those with core skills have more flexibility to consider positions from various cities.\n",
    "\n",
    "![Skills by location](./results/location_vs_skill.png)  \n",
    "*Figure 4: Prevalence (%) of skills by location*"
   ]
  },
  {
   "cell_type": "markdown",
   "metadata": {},
   "source": [
    "# Salary distribution\n",
    "The salary analysis will give job seekers an idea of the salary range that they can expect from UK analyst jobs. The salary information in job listings often presents inconsistencies, with many vague terms such as \"competitve salary\" and \"salary negotiable\" along with \"not specified\", \"salary not specified\", and even foreign currencies for UK-based jobs. Those with specified salaries had different ranges of per hour, per day, and per annum. Therefore, the salary analysis will focus on per annum specified salaries, which are the most abundant and consistent type, and their averages. For example, \"£17,000 - £19,000 per annum\" will return 18000. \n",
    "\n",
    "According to figure 5, most jobs have an average annual salary of around £30,000-£50,000, with a median of £40,000. There is a significant outlier with an average annual salary of £380,000, which is for a specialised london-based job involving JavaScript and SQL.\n",
    "\n",
    "![Salary](./results/salary_distribution.png)  \n",
    "*Figure 5: Distribution of annual salaries for UK analyst jobs*"
   ]
  },
  {
   "cell_type": "markdown",
   "metadata": {},
   "source": [
    "## What does \"competitive salary\" mean?\n",
    "The term \"competitive salary\" was present in around 11% of all job listings. Therefore, it is interesting to find out what this means. By identifying the top 5 skills most frequently mentioned in these listings (SQL, Power BI, Python, Tableau, Excel), the salaries of other jobs with at least one of these skills were cross-checked. This resulted in the median annual salary of £40,000, which is the same median annual salary of other job listings. This suggests that employers use this term to maintain flexibility for negotiation or due to company standards. However, location was not considered in this analysis."
   ]
  },
  {
   "cell_type": "markdown",
   "metadata": {},
   "source": [
    "## Do skills correlate with higher pay?\n",
    "The results from figure 6, salary by skill, revealed a hierarchy in which more specialised skills such as Scala and Spark show the highest median annual salaries, and the core skillset falls in the lower or middle tier, despite the overall higher usage. This indicates that these core skills are often used in entry-level positions or a wider variety of roles, compared to the more specialised ones, which may be associated with more advanced and specialised roles. However, the number of job listings for these specialised roles is limited, which may make these median values less reliable.\n",
    "\n",
    "![Salary vs skills](./results/salary_vs_skill.png)  \n",
    "*Figure 6: Median annual salary by skill for UK analyst jobs*"
   ]
  },
  {
   "cell_type": "markdown",
   "metadata": {},
   "source": [
    "# Job type distribution\n",
    "The job type data consist of permanent, contract, and temporary positions, along with full-time, part-time, or both, for these positions. From figure 7, the majority of analyst roles listed are permanent positions, 88.4% of all job listings, with the remainder made up of contract and temporary positions (non-permanent). This suggests a stable job market for analyst roles where employers seek long-term hires. A full analysis of full-time vs part-time roles was not included due to the lack of data and data imbalance, however, an initial analysis revealed that the vast majority of roles listed were full-time roles.\n",
    "\n",
    "![Job type](./results/job_type_distribution.png)  \n",
    "*Figure 7: Distribution of job types*"
   ]
  },
  {
   "cell_type": "markdown",
   "metadata": {},
   "source": [
    "# Takeaways for aspiring UK analysts\n",
    "Several key recommendations can be drawn from this analysis. Firstly, Python, SQL, and Excel should be prioritised as these are core skills in demand across all job listings. Secondly, developing proficiency in BI tools such as Power BI or Tableau for visualisation and reporting are highly sought after and complement the core skillset. Major cities offer the most number of opportunities, with the highest being London. Those aiming to maximise their earnings should consider developing specialised skills such as Scala and Spark, but should be aware of the limited availability of roles requiring these skills. Finally, the vast number of permanent positions provide good job security for long-term career development.\n",
    "\n",
    "While this analysis provides insights into the current UK analyst job market, it is only a snapshot. Incorporating data from other job listing websites, expanding the predefined skills list, and extending the timeframe could provide a more comprehensive view. Nevertheless, analysts who thoughtfully combine core skills with strategic specialisations stand the best chance of success in the UK job market."
   ]
  },
  {
   "cell_type": "markdown",
   "metadata": {},
   "source": [
    "# Link to GitHub repository\n",
    "https://github.com/CawbyCop/720000069"
   ]
  }
 ],
 "metadata": {
  "kernelspec": {
   "display_name": "bee2041",
   "language": "python",
   "name": "python3"
  },
  "language_info": {
   "codemirror_mode": {
    "name": "ipython",
    "version": 3
   },
   "file_extension": ".py",
   "mimetype": "text/x-python",
   "name": "python",
   "nbconvert_exporter": "python",
   "pygments_lexer": "ipython3",
   "version": "3.12.8"
  }
 },
 "nbformat": 4,
 "nbformat_minor": 2
}
