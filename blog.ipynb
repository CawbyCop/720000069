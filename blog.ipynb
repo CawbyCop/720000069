{
 "cells": [
  {
   "cell_type": "markdown",
   "metadata": {},
   "source": [
    "# Introduction\n",
    "Analyst positions have become increasingly valuable in today's growing job market. Roles such as data analyst, finance analyst, and credit risk analyst vary across industries but may share common technicals skills required by employers. For job seekers, understanding what employers actually want and what they offer can be challenging. This blog will analyse real job listings from [Reed.co.uk](https://www.reed.co.uk/jobs/data-analyst-jobs-in-united-kingdom), one of the leading job sites in the United Kingdom (UK), to provide a more complete view of analyst jobs."
   ]
  },
  {
   "cell_type": "markdown",
   "metadata": {},
   "source": [
    "# Dataset collection\n",
    "Using Python's webscraping tools such as BeautifulSoup, over 1500 job listings have been collected for various analyst jobs in the UK. For each job listing, information such as the job title, salary, location, and job type (permanent or contract and full-time or part-time) have been collected. Furthermore, technical skills such as programming languages and tools required by that job were collected. Only skills that match the specified list (top skills for data analyst - reference in README.md) were collected. This was done to provide insight into what current skills from the list are most in demand, specifically for UK jobs. All data was collected in April 2025."
   ]
  },
  {
   "cell_type": "markdown",
   "metadata": {},
   "source": [
    "# The most needed skills\n",
    "The most important question probably asked by analyst job seekers \"which skills to focus on?\". The analysis showed that Python is the most in-demand skill, appearing in 53.5% of all job listings. The close second and third positions are SQL and Excel with 50.8% and 44.7% respectively. These three skills make up the foundation that are required by employers which makes sense for analyst jobs where the main workload involves data processing, visualisations, and database manipulation. Additionally, business intelligence (BI) tools such as Power BI (28.8%) and Tableau (27.3%) are frequently used for their ability to create data visualisations and dashboards.\n",
    "![Top skills](./results/top_skills.png)"
   ]
  },
  {
   "cell_type": "markdown",
   "metadata": {},
   "source": [
    "## Skill power pairs\n",
    "Python and SQl are by far the most frequent pairing, along with varies pairing with Excel, Tableau, and Power BI, which further confirms the importance of these skills and that employers value analysts who can manage end-to-end workflow. Together, focusing on Python, SQL, Excel, and at least one BI tool is crucial and seemingly enough, for most analyst jobs.\n",
    "![Top skills combinations](./results/skills_combinations.png)"
   ]
  },
  {
   "cell_type": "markdown",
   "metadata": {},
   "source": [
    "# Location distribution\n",
    "Analysing analyst jobs by location revealed that London offers the most analyst jobs in the UK with nearly a third of all listings. This means that job seekers need to be willing to work in London to have access to more opportunities but likely face more competition and higher living costs. However, secondary cities such as Manchester, Leeds, and Birmingham still offer significant number of positions, providing alternatives. It is important to note that the majority of positions are located in urban centres which makes sense for major businesses.\n",
    "![Top locations](./results/top_locations.png)"
   ]
  },
  {
   "cell_type": "markdown",
   "metadata": {},
   "source": [
    "## Regional variations in skill demand\n",
    "The heatmap below shows the prevalence (in percentage) of skills by location and insights into the demand for specific skills, depending on the location. No surprise that London offers the most diverse skill requirements with specialised skills such as Spark and Scala appearing almost exclusively, while other cities focus on mainly the core skillset. This analysis suggest that job seekers should focus their search accordingly to their interest in specialised roles.\n",
    "![Skills by location](./results/location_vs_skill.png)"
   ]
  },
  {
   "cell_type": "markdown",
   "metadata": {},
   "source": [
    "# Salary distribution\n",
    "The salary analysis will give job seekers an idea of the range that they can expect for UK analyst jobs. The salary information in job listings were widely inconsistent, with many vague terms of \"competitve salary\" and \"salary negotiable\" along with \"not specified\" and \"salary not specified\" and even foreign currencies for UK-based jobs. Those with specified salaries had different ranges of per hour, per day, and per annum. Therefore, the salary analysis will consist of per annum specified salaries only, the most abundant and consistent type and their average. For example, £17,000 - £19,000 per annum will return 18000. \n",
    "\n",
    "According to the figure below, most roles have a average annual salary of around £30,000-£50,000, with a median of £40,000. There is a significant outlier with £380,000 average annum salary which is for a specialised london-based job involving JavaScript and SQL.\n",
    "![Salary](./results/salary_distribution.png)"
   ]
  },
  {
   "cell_type": "markdown",
   "metadata": {},
   "source": [
    "## What does \"competitive salary\" mean?\n",
    "The term \"competitive salary\" was present in around 11% of all job listings. Therefore it is interesting to find out what this means. By identifying the top 5 skills most frequently mentioned in these listings (SQL, Power BI, Python, Tableau, Excel), the salaries of other jobs with at least one of these skills were cross-checked. Interestingly, this resulted in the median annual salary of £40,000, the same from other job listings. This suggests that employers use this term to maintain flexibility for negotiation or due to company standards. However, location was not considered in this analysis."
   ]
  },
  {
   "cell_type": "markdown",
   "metadata": {},
   "source": [
    "## Do skills correlate with higher pay?\n",
    "The results from salary vs skills revealed a hierarchy in which more specialised skills such as Scala and Spark show the highest median annual salaries and the core skillset falls in the lower or middle tier, despite the overall higher usage. This suggests that these core skills are heavily used in entry-level positions or a wider variety of roles compared to the more specialised ones, which may be associated with more advanced and specialised roles. However, the number of job listings for these specialised roles are very limited which may make these median values less reliable.\n",
    "![Salary vs skills](./results/salary_vs_skill.png)"
   ]
  },
  {
   "cell_type": "markdown",
   "metadata": {},
   "source": [
    "# Job type distribution\n",
    "The majority of analyst roles listed are permanent positions, 88.4% of all job listings, with the remainder made up of contract and temporary positions. This suggests a stable job market for analyst roles where employers seek long-term hires. A full analysis of full-time vs part-time roles was not included due to the lack of data and data imbalance, however, an initial analysis revealed that the vast majority of roles listed were full-time roles.\n",
    "![Job type](./results/job_type_distribution.png)"
   ]
  },
  {
   "cell_type": "markdown",
   "metadata": {},
   "source": [
    "# Takeaways for analyst job seekers\n",
    "Several key recommendations can be said from this analysis. Firstly, focusing on Python, SQL, and Excel should be prioritised as these are core skills that are in demand across all job listings. Secondly, developing proficiency in BI tools such as Power BI or Tableau are highly sought after for visualisation and reporting. Major cities offer the most number of opportunities, with the highest being London. Job seekers aiming to maximise their earnings should consider developing specialised skills in Scala and Spark but should be aware of tough competition as roles are limited. Finally, the vast number of permanent positions ensures good job security for long-term career development.\n",
    "\n",
    "However, this analysis is only a snapshot of the current UK analyst job market. Incorporating data from other job listing websites, expanding the skills list, and expanding the timeframe could provide a more complete view."
   ]
  },
  {
   "cell_type": "markdown",
   "metadata": {},
   "source": [
    "# Link to github repository\n",
    "https://github.com/CawbyCop/720000069"
   ]
  }
 ],
 "metadata": {
  "kernelspec": {
   "display_name": "bee2041",
   "language": "python",
   "name": "python3"
  },
  "language_info": {
   "codemirror_mode": {
    "name": "ipython",
    "version": 3
   },
   "file_extension": ".py",
   "mimetype": "text/x-python",
   "name": "python",
   "nbconvert_exporter": "python",
   "pygments_lexer": "ipython3",
   "version": "3.12.8"
  }
 },
 "nbformat": 4,
 "nbformat_minor": 2
}
